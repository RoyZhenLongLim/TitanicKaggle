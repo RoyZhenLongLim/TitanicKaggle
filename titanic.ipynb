{
 "cells": [
  {
   "cell_type": "markdown",
   "source": [
    "# Titanic Competition\n",
    "This jupyter notebook includes the training of ML model used to predict the survival of passengers aboard the titanic"
   ],
   "metadata": {
    "collapsed": false
   },
   "id": "d7296eda4167fb4"
  },
  {
   "cell_type": "code",
   "execution_count": 1,
   "id": "initial_id",
   "metadata": {
    "collapsed": true,
    "ExecuteTime": {
     "end_time": "2023-12-01T10:17:19.684618122Z",
     "start_time": "2023-12-01T10:17:18.751439531Z"
    }
   },
   "outputs": [],
   "source": [
    "import numpy as np\n",
    "import pandas as pd  # data processing, CSV file, I/O\n",
    "from sklearn.ensemble import RandomForestRegressor  # used to generate the machine learning model\n",
    "from sklearn.metrics import mean_absolute_error  # used to determine accuracy of model\n",
    "from sklearn.model_selection import train_test_split  # used to split data into training and validation data"
   ]
  },
  {
   "cell_type": "code",
   "execution_count": 2,
   "outputs": [],
   "source": [
    "train = pd.read_csv('Data/train.csv')\n",
    "test =  pd.read_csv('Data/test.csv')"
   ],
   "metadata": {
    "collapsed": false,
    "ExecuteTime": {
     "end_time": "2023-12-01T10:18:52.082040331Z",
     "start_time": "2023-12-01T10:18:52.040973503Z"
    }
   },
   "id": "18b03c0a6b9af5db"
  }
 ],
 "metadata": {
  "kernelspec": {
   "display_name": "Python 3",
   "language": "python",
   "name": "python3"
  },
  "language_info": {
   "codemirror_mode": {
    "name": "ipython",
    "version": 2
   },
   "file_extension": ".py",
   "mimetype": "text/x-python",
   "name": "python",
   "nbconvert_exporter": "python",
   "pygments_lexer": "ipython2",
   "version": "2.7.6"
  }
 },
 "nbformat": 4,
 "nbformat_minor": 5
}
